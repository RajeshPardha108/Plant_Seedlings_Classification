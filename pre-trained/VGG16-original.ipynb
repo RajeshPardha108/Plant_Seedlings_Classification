{
 "cells": [
  {
   "cell_type": "code",
   "execution_count": 1,
   "metadata": {},
   "outputs": [
    {
     "name": "stderr",
     "output_type": "stream",
     "text": [
      "Using TensorFlow backend.\n"
     ]
    }
   ],
   "source": [
    "#from keras import backend as K\n",
    "import numpy as np\n",
    "import pandas as pd\n",
    "import os\n",
    "from keras.preprocessing import image   \n",
    "from keras.applications import xception\n",
    "import matplotlib.image as mpimg\n",
    "from PIL import ImageFile\n",
    "from matplotlib.pyplot import imshow\n",
    "from tqdm import tqdm\n",
    "from mpl_toolkits.axes_grid1 import ImageGrid\n",
    "from sklearn.linear_model import LogisticRegression\n",
    "from sklearn.metrics import accuracy_score, confusion_matrix\n",
    "from sklearn.utils import shuffle\n",
    "from sklearn import preprocessing\n",
    "import time\n",
    "import keras\n",
    "from keras.layers import Conv2D, MaxPooling2D, GlobalAveragePooling2D, Dropout, Flatten, Dense\n",
    "from keras.models import Sequential, Model\n",
    "from keras.layers.normalization import BatchNormalization\n",
    "from keras import regularizers, applications, optimizers, initializers\n",
    "from keras.preprocessing.image import ImageDataGenerator\n",
    "from sklearn.metrics import confusion_matrix"
   ]
  },
  {
   "cell_type": "code",
   "execution_count": 2,
   "metadata": {},
   "outputs": [
    {
     "name": "stdout",
     "output_type": "stream",
     "text": [
      "\u001b[34mcleanedData\u001b[m\u001b[m             \u001b[31msample_submission.csv\u001b[m\u001b[m   \u001b[34mtrain\u001b[m\u001b[m\r\n",
      "\u001b[34mkeras-pretrained-models\u001b[m\u001b[m \u001b[34mtest\u001b[m\u001b[m                    \u001b[31mtrain.zip\u001b[m\u001b[m\r\n",
      "rootkey.csv             \u001b[31mtest.zip\u001b[m\u001b[m\r\n"
     ]
    }
   ],
   "source": [
    "!ls /Users/troyxiao/Desktop/ANLY590-DeepLearning/project/all"
   ]
  },
  {
   "cell_type": "code",
   "execution_count": 3,
   "metadata": {},
   "outputs": [],
   "source": [
    "CATEGORIES = ['Black-grass', 'Charlock', 'Cleavers', 'Common Chickweed', 'Common wheat', 'Fat Hen', 'Loose Silky-bent',\n",
    "              'Maize', 'Scentless Mayweed', 'Shepherds Purse', 'Small-flowered Cranesbill', 'Sugar beet']\n",
    "NUM_CATEGORIES = len(CATEGORIES)"
   ]
  },
  {
   "cell_type": "code",
   "execution_count": 6,
   "metadata": {},
   "outputs": [],
   "source": [
    "data_dir = '/Users/troyxiao/Desktop/ANLY590-DeepLearning/project/all'\n",
    "train_dir = os.path.join(data_dir, 'train')\n",
    "test_dir = os.path.join(data_dir, 'test')\n",
    "#sample_submission = pd.read_csv(os.path.join(data_dir, 'sample_submission.csv'))"
   ]
  },
  {
   "cell_type": "code",
   "execution_count": 7,
   "metadata": {},
   "outputs": [
    {
     "name": "stdout",
     "output_type": "stream",
     "text": [
      "Black-grass 263 images\n",
      "Charlock 391 images\n",
      "Cleavers 287 images\n",
      "Common Chickweed 611 images\n",
      "Common wheat 221 images\n",
      "Fat Hen 475 images\n",
      "Loose Silky-bent 654 images\n",
      "Maize 221 images\n",
      "Scentless Mayweed 516 images\n",
      "Shepherds Purse 231 images\n",
      "Small-flowered Cranesbill 496 images\n",
      "Sugar beet 385 images\n"
     ]
    }
   ],
   "source": [
    "for category in CATEGORIES:\n",
    "    print('{} {} images'.format(category, len(os.listdir(os.path.join(train_dir, category)))))"
   ]
  },
  {
   "cell_type": "code",
   "execution_count": 8,
   "metadata": {},
   "outputs": [
    {
     "data": {
      "text/plain": [
       "(4750, 3)"
      ]
     },
     "execution_count": 8,
     "metadata": {},
     "output_type": "execute_result"
    }
   ],
   "source": [
    "train = []\n",
    "for category_id, category in enumerate(CATEGORIES):\n",
    "    for file in os.listdir(os.path.join(train_dir, category)):\n",
    "        if file != '.DS_Store':\n",
    "            train.append(['train/{}/{}'.format(category, file), category_id, category])\n",
    "train = pd.DataFrame(train, columns=['file', 'category_id', 'category'])\n",
    "train.shape"
   ]
  },
  {
   "cell_type": "code",
   "execution_count": 9,
   "metadata": {},
   "outputs": [
    {
     "data": {
      "text/html": [
       "<div>\n",
       "<style scoped>\n",
       "    .dataframe tbody tr th:only-of-type {\n",
       "        vertical-align: middle;\n",
       "    }\n",
       "\n",
       "    .dataframe tbody tr th {\n",
       "        vertical-align: top;\n",
       "    }\n",
       "\n",
       "    .dataframe thead th {\n",
       "        text-align: right;\n",
       "    }\n",
       "</style>\n",
       "<table border=\"1\" class=\"dataframe\">\n",
       "  <thead>\n",
       "    <tr style=\"text-align: right;\">\n",
       "      <th></th>\n",
       "      <th>file</th>\n",
       "      <th>category_id</th>\n",
       "      <th>category</th>\n",
       "    </tr>\n",
       "  </thead>\n",
       "  <tbody>\n",
       "    <tr>\n",
       "      <th>0</th>\n",
       "      <td>train/Black-grass/5a1295fb4.png</td>\n",
       "      <td>0</td>\n",
       "      <td>Black-grass</td>\n",
       "    </tr>\n",
       "    <tr>\n",
       "      <th>1</th>\n",
       "      <td>train/Black-grass/d8afd58f3.png</td>\n",
       "      <td>0</td>\n",
       "      <td>Black-grass</td>\n",
       "    </tr>\n",
       "    <tr>\n",
       "      <th>2</th>\n",
       "      <td>train/Black-grass/418808d19.png</td>\n",
       "      <td>0</td>\n",
       "      <td>Black-grass</td>\n",
       "    </tr>\n",
       "    <tr>\n",
       "      <th>3</th>\n",
       "      <td>train/Black-grass/eac39cfa8.png</td>\n",
       "      <td>0</td>\n",
       "      <td>Black-grass</td>\n",
       "    </tr>\n",
       "    <tr>\n",
       "      <th>4</th>\n",
       "      <td>train/Black-grass/39e9bf4c7.png</td>\n",
       "      <td>0</td>\n",
       "      <td>Black-grass</td>\n",
       "    </tr>\n",
       "  </tbody>\n",
       "</table>\n",
       "</div>"
      ],
      "text/plain": [
       "                              file  category_id     category\n",
       "0  train/Black-grass/5a1295fb4.png            0  Black-grass\n",
       "1  train/Black-grass/d8afd58f3.png            0  Black-grass\n",
       "2  train/Black-grass/418808d19.png            0  Black-grass\n",
       "3  train/Black-grass/eac39cfa8.png            0  Black-grass\n",
       "4  train/Black-grass/39e9bf4c7.png            0  Black-grass"
      ]
     },
     "execution_count": 9,
     "metadata": {},
     "output_type": "execute_result"
    }
   ],
   "source": [
    "train.head(5)"
   ]
  },
  {
   "cell_type": "code",
   "execution_count": 10,
   "metadata": {},
   "outputs": [
    {
     "data": {
      "text/html": [
       "<div>\n",
       "<style scoped>\n",
       "    .dataframe tbody tr th:only-of-type {\n",
       "        vertical-align: middle;\n",
       "    }\n",
       "\n",
       "    .dataframe tbody tr th {\n",
       "        vertical-align: top;\n",
       "    }\n",
       "\n",
       "    .dataframe thead th {\n",
       "        text-align: right;\n",
       "    }\n",
       "</style>\n",
       "<table border=\"1\" class=\"dataframe\">\n",
       "  <thead>\n",
       "    <tr style=\"text-align: right;\">\n",
       "      <th></th>\n",
       "      <th>file</th>\n",
       "      <th>category_id</th>\n",
       "      <th>category</th>\n",
       "    </tr>\n",
       "  </thead>\n",
       "  <tbody>\n",
       "    <tr>\n",
       "      <th>3651</th>\n",
       "      <td>train/Shepherds Purse/9db0aa841.png</td>\n",
       "      <td>9</td>\n",
       "      <td>Shepherds Purse</td>\n",
       "    </tr>\n",
       "    <tr>\n",
       "      <th>3554</th>\n",
       "      <td>train/Scentless Mayweed/0dd73ae6a.png</td>\n",
       "      <td>8</td>\n",
       "      <td>Scentless Mayweed</td>\n",
       "    </tr>\n",
       "    <tr>\n",
       "      <th>2040</th>\n",
       "      <td>train/Fat Hen/f0e75e3bf.png</td>\n",
       "      <td>5</td>\n",
       "      <td>Fat Hen</td>\n",
       "    </tr>\n",
       "    <tr>\n",
       "      <th>4122</th>\n",
       "      <td>train/Small-flowered Cranesbill/8d4967856.png</td>\n",
       "      <td>10</td>\n",
       "      <td>Small-flowered Cranesbill</td>\n",
       "    </tr>\n",
       "    <tr>\n",
       "      <th>1343</th>\n",
       "      <td>train/Common Chickweed/2e4aad6ec.png</td>\n",
       "      <td>3</td>\n",
       "      <td>Common Chickweed</td>\n",
       "    </tr>\n",
       "  </tbody>\n",
       "</table>\n",
       "</div>"
      ],
      "text/plain": [
       "                                               file  category_id  \\\n",
       "3651            train/Shepherds Purse/9db0aa841.png            9   \n",
       "3554          train/Scentless Mayweed/0dd73ae6a.png            8   \n",
       "2040                    train/Fat Hen/f0e75e3bf.png            5   \n",
       "4122  train/Small-flowered Cranesbill/8d4967856.png           10   \n",
       "1343           train/Common Chickweed/2e4aad6ec.png            3   \n",
       "\n",
       "                       category  \n",
       "3651            Shepherds Purse  \n",
       "3554          Scentless Mayweed  \n",
       "2040                    Fat Hen  \n",
       "4122  Small-flowered Cranesbill  \n",
       "1343           Common Chickweed  "
      ]
     },
     "execution_count": 10,
     "metadata": {},
     "output_type": "execute_result"
    }
   ],
   "source": [
    "train = shuffle(train)\n",
    "train.head(5)"
   ]
  },
  {
   "cell_type": "code",
   "execution_count": 11,
   "metadata": {},
   "outputs": [],
   "source": [
    "# convert category_id to binary label\n",
    "id = np.array(train['category_id'])\n",
    "trainL = np.array([0,0,0,0,0,0,0,0,0,0,0,0])\n",
    "for i in range(train.shape[0]):\n",
    "    temp = np.array([0,0,0,0,0,0,0,0,0,0,0,0])\n",
    "    temp[id[i]]=1\n",
    "    trainL = np.vstack((trainL,temp))\n",
    "trainL = np.delete(trainL,(0), axis=0)"
   ]
  },
  {
   "cell_type": "code",
   "execution_count": 12,
   "metadata": {},
   "outputs": [
    {
     "name": "stdout",
     "output_type": "stream",
     "text": [
      "[0 0 0 0 0 0 0 0 0 1 0 0]\n",
      "[0 0 0 0 0 0 0 0 1 0 0 0]\n",
      "[0 0 0 0 0 1 0 0 0 0 0 0]\n",
      "[0 0 0 0 0 0 0 0 0 0 1 0]\n",
      "[0 0 0 1 0 0 0 0 0 0 0 0]\n"
     ]
    }
   ],
   "source": [
    "for i in range(5):\n",
    "    print(trainL[i])"
   ]
  },
  {
   "cell_type": "code",
   "execution_count": 13,
   "metadata": {},
   "outputs": [
    {
     "data": {
      "text/plain": [
       "(794, 2)"
      ]
     },
     "execution_count": 13,
     "metadata": {},
     "output_type": "execute_result"
    }
   ],
   "source": [
    "test = []\n",
    "for file in os.listdir(test_dir):\n",
    "    test.append(['test/{}'.format(file), file])\n",
    "test = pd.DataFrame(test, columns=['filepath', 'file'])\n",
    "test.shape"
   ]
  },
  {
   "cell_type": "code",
   "execution_count": 14,
   "metadata": {},
   "outputs": [
    {
     "data": {
      "text/html": [
       "<div>\n",
       "<style scoped>\n",
       "    .dataframe tbody tr th:only-of-type {\n",
       "        vertical-align: middle;\n",
       "    }\n",
       "\n",
       "    .dataframe tbody tr th {\n",
       "        vertical-align: top;\n",
       "    }\n",
       "\n",
       "    .dataframe thead th {\n",
       "        text-align: right;\n",
       "    }\n",
       "</style>\n",
       "<table border=\"1\" class=\"dataframe\">\n",
       "  <thead>\n",
       "    <tr style=\"text-align: right;\">\n",
       "      <th></th>\n",
       "      <th>filepath</th>\n",
       "      <th>file</th>\n",
       "    </tr>\n",
       "  </thead>\n",
       "  <tbody>\n",
       "    <tr>\n",
       "      <th>0</th>\n",
       "      <td>test/1b490196c.png</td>\n",
       "      <td>1b490196c.png</td>\n",
       "    </tr>\n",
       "    <tr>\n",
       "      <th>1</th>\n",
       "      <td>test/85431c075.png</td>\n",
       "      <td>85431c075.png</td>\n",
       "    </tr>\n",
       "  </tbody>\n",
       "</table>\n",
       "</div>"
      ],
      "text/plain": [
       "             filepath           file\n",
       "0  test/1b490196c.png  1b490196c.png\n",
       "1  test/85431c075.png  85431c075.png"
      ]
     },
     "execution_count": 14,
     "metadata": {},
     "output_type": "execute_result"
    }
   ],
   "source": [
    "test.head(2)"
   ]
  },
  {
   "cell_type": "code",
   "execution_count": 15,
   "metadata": {},
   "outputs": [],
   "source": [
    "# Helper method to convert images to training tensors \n",
    "def path_to_tensor(img_path, shape):\n",
    "    # loads RGB image as PIL.Image.Image type\n",
    "    img = image.load_img(img_path, target_size=shape)\n",
    "    # convert PIL.Image.Image type to 3D tensor with shape (224, 224, 3)\n",
    "    x = image.img_to_array(img)/255\n",
    "    # convert 3D tensor to 4D tensor with shape (1, 224, 224, 3) and return 4D tensor\n",
    "    return np.expand_dims(x, axis=0)\n",
    "\n",
    "# Convert images to training tensors \n",
    "def paths_to_tensor(img_paths, shape):\n",
    "    list_of_tensors = [path_to_tensor(img_path, shape) for img_path in tqdm(img_paths)]\n",
    "    return np.vstack(list_of_tensors)"
   ]
  },
  {
   "cell_type": "code",
   "execution_count": 16,
   "metadata": {},
   "outputs": [
    {
     "name": "stderr",
     "output_type": "stream",
     "text": [
      "100%|██████████| 4000/4000 [01:00<00:00, 66.24it/s] \n",
      "100%|██████████| 750/750 [00:14<00:00, 52.29it/s] \n",
      "100%|██████████| 794/794 [00:05<00:00, 155.89it/s]\n"
     ]
    }
   ],
   "source": [
    "img_shape = (70,70)\n",
    "#files_list = (data_dir + '/' + train['file']).tolist()\n",
    "files_list=[]\n",
    "for i in range(train.shape[0]):\n",
    "    files_list.append(data_dir + '/' + train['file'][i])\n",
    "    \n",
    "test_files_list=[]\n",
    "for i in range(test.shape[0]):\n",
    "    test_files_list.append(data_dir + '/' + test['filepath'][i])\n",
    "\n",
    "divide = 4000\n",
    "train_tensors = paths_to_tensor(files_list[:divide], shape = img_shape)\n",
    "valid_tensors = paths_to_tensor(files_list[divide:], shape = img_shape)\n",
    "test_tensors = paths_to_tensor(test_files_list[:], shape = img_shape)\n",
    "\n",
    "train_labels = trainL[:divide]\n",
    "valid_labels = trainL[divide:]"
   ]
  },
  {
   "cell_type": "code",
   "execution_count": 17,
   "metadata": {},
   "outputs": [
    {
     "name": "stdout",
     "output_type": "stream",
     "text": [
      "Downloading data from https://github.com/fchollet/deep-learning-models/releases/download/v0.1/vgg16_weights_tf_dim_ordering_tf_kernels_notop.h5\n",
      "58892288/58889256 [==============================] - 5s 0us/step\n",
      "58900480/58889256 [==============================] - 5s 0us/step\n",
      "_________________________________________________________________\n",
      "Layer (type)                 Output Shape              Param #   \n",
      "=================================================================\n",
      "input_1 (InputLayer)         (None, 70, 70, 3)         0         \n",
      "_________________________________________________________________\n",
      "block1_conv1 (Conv2D)        (None, 70, 70, 64)        1792      \n",
      "_________________________________________________________________\n",
      "block1_conv2 (Conv2D)        (None, 70, 70, 64)        36928     \n",
      "_________________________________________________________________\n",
      "block1_pool (MaxPooling2D)   (None, 35, 35, 64)        0         \n",
      "_________________________________________________________________\n",
      "block2_conv1 (Conv2D)        (None, 35, 35, 128)       73856     \n",
      "_________________________________________________________________\n",
      "block2_conv2 (Conv2D)        (None, 35, 35, 128)       147584    \n",
      "_________________________________________________________________\n",
      "block2_pool (MaxPooling2D)   (None, 17, 17, 128)       0         \n",
      "_________________________________________________________________\n",
      "block3_conv1 (Conv2D)        (None, 17, 17, 256)       295168    \n",
      "_________________________________________________________________\n",
      "block3_conv2 (Conv2D)        (None, 17, 17, 256)       590080    \n",
      "_________________________________________________________________\n",
      "block3_conv3 (Conv2D)        (None, 17, 17, 256)       590080    \n",
      "_________________________________________________________________\n",
      "block3_pool (MaxPooling2D)   (None, 8, 8, 256)         0         \n",
      "_________________________________________________________________\n",
      "block4_conv1 (Conv2D)        (None, 8, 8, 512)         1180160   \n",
      "_________________________________________________________________\n",
      "block4_conv2 (Conv2D)        (None, 8, 8, 512)         2359808   \n",
      "_________________________________________________________________\n",
      "block4_conv3 (Conv2D)        (None, 8, 8, 512)         2359808   \n",
      "_________________________________________________________________\n",
      "block4_pool (MaxPooling2D)   (None, 4, 4, 512)         0         \n",
      "_________________________________________________________________\n",
      "block5_conv1 (Conv2D)        (None, 4, 4, 512)         2359808   \n",
      "_________________________________________________________________\n",
      "block5_conv2 (Conv2D)        (None, 4, 4, 512)         2359808   \n",
      "_________________________________________________________________\n",
      "block5_conv3 (Conv2D)        (None, 4, 4, 512)         2359808   \n",
      "_________________________________________________________________\n",
      "block5_pool (MaxPooling2D)   (None, 2, 2, 512)         0         \n",
      "_________________________________________________________________\n",
      "sequential_1 (Sequential)    (None, 12)                131916    \n",
      "=================================================================\n",
      "Total params: 14,846,604\n",
      "Trainable params: 131,916\n",
      "Non-trainable params: 14,714,688\n",
      "_________________________________________________________________\n",
      "_________________________________________________________________\n",
      "Layer (type)                 Output Shape              Param #   \n",
      "=================================================================\n",
      "flatten_1 (Flatten)          (None, 2048)              0         \n",
      "_________________________________________________________________\n",
      "dropout_1 (Dropout)          (None, 2048)              0         \n",
      "_________________________________________________________________\n",
      "dense_1 (Dense)              (None, 64)                131136    \n",
      "_________________________________________________________________\n",
      "dropout_2 (Dropout)          (None, 64)                0         \n",
      "_________________________________________________________________\n",
      "dense_2 (Dense)              (None, 12)                780       \n",
      "=================================================================\n",
      "Total params: 131,916\n",
      "Trainable params: 131,916\n",
      "Non-trainable params: 0\n",
      "_________________________________________________________________\n"
     ]
    }
   ],
   "source": [
    "base_model = applications.vgg16.VGG16(weights='imagenet',\n",
    "                                               include_top=False,\n",
    "                                               input_shape=train_tensors.shape[1:])\n",
    "\n",
    "for layer in base_model.layers:\n",
    "    layer.trainable = False\n",
    "\n",
    "add_model = Sequential()\n",
    "add_model.add(Flatten(input_shape=base_model.output_shape[1:]))\n",
    "add_model.add(Dropout(0.2))\n",
    "#add_model.add(Dense(256, activation='relu'))\n",
    "#add_model.add(Dropout(0.2))\n",
    "add_model.add(Dense(64, activation='relu'))\n",
    "add_model.add(Dropout(0.2))\n",
    "add_model.add(Dense(12, activation='softmax'))\n",
    "\n",
    "model = Model(inputs=base_model.input, outputs=add_model(base_model.output))\n",
    "\n",
    "model.summary()\n",
    "add_model.summary()"
   ]
  },
  {
   "cell_type": "code",
   "execution_count": 18,
   "metadata": {},
   "outputs": [],
   "source": [
    "import keras.backend as K\n",
    "\n",
    "model.compile(optimizer=optimizers.SGD(lr=1e-4, decay=1e-6, momentum=0.9, nesterov=True), \n",
    "              loss='categorical_crossentropy', \n",
    "              metrics=['accuracy'])"
   ]
  },
  {
   "cell_type": "code",
   "execution_count": 20,
   "metadata": {},
   "outputs": [
    {
     "name": "stdout",
     "output_type": "stream",
     "text": [
      "Epoch 1/5\n",
      "250/250 [==============================] - 166s 662ms/step - loss: 2.4709 - acc: 0.1180 - val_loss: 2.4556 - val_acc: 0.1293\n",
      "\n",
      "Epoch 00001: val_loss improved from inf to 2.45565, saving model to plant-seedling-checkpoint.hdf5\n",
      "Epoch 2/5\n",
      "250/250 [==============================] - 166s 665ms/step - loss: 2.4539 - acc: 0.1187 - val_loss: 2.4513 - val_acc: 0.1173\n",
      "\n",
      "Epoch 00002: val_loss improved from 2.45565 to 2.45126, saving model to plant-seedling-checkpoint.hdf5\n",
      "Epoch 3/5\n",
      "250/250 [==============================] - 178s 712ms/step - loss: 2.4518 - acc: 0.1227 - val_loss: 2.4515 - val_acc: 0.1107\n",
      "\n",
      "Epoch 00003: val_loss did not improve from 2.45126\n",
      "Epoch 4/5\n",
      "250/250 [==============================] - 171s 685ms/step - loss: 2.4431 - acc: 0.1293 - val_loss: 2.4520 - val_acc: 0.1107\n",
      "\n",
      "Epoch 00004: val_loss did not improve from 2.45126\n",
      "Epoch 5/5\n",
      "250/250 [==============================] - 167s 668ms/step - loss: 2.4399 - acc: 0.1283 - val_loss: 2.4516 - val_acc: 0.1173\n",
      "\n",
      "Epoch 00005: val_loss did not improve from 2.45126\n",
      "training time: 14.14 minutes\n"
     ]
    }
   ],
   "source": [
    "from keras.callbacks import ModelCheckpoint, CSVLogger, EarlyStopping\n",
    "import numpy as np\n",
    "\n",
    "epochs = 5\n",
    "batch_size = 16\n",
    "\n",
    "earlystop = EarlyStopping(monitor='val_loss', min_delta=0, patience=4, verbose=1, mode='auto')\n",
    "log = CSVLogger('plant-seedling-log.csv')\n",
    "checkpointer = ModelCheckpoint(filepath='plant-seedling-checkpoint.hdf5', \n",
    "                               verbose=1, save_best_only=True)\n",
    "\n",
    "start = time.time()\n",
    "\n",
    "def train_generator(x, y, batch_size):\n",
    "        train_datagen = ImageDataGenerator(\n",
    "                        shear_range=0.2,\n",
    "                        zoom_range=0.2,\n",
    "                        rotation_range=180,  # randomly rotate images in the range (degrees, 0 to 180)\n",
    "                        width_shift_range=0.2,  # randomly shift images horizontally (fraction of total width)\n",
    "                        height_shift_range=0.2,  # randomly shift images vertically (fraction of total height)\n",
    "                        horizontal_flip=True,  # randomly flip images\n",
    "                        vertical_flip=True)  # randomly flip images\n",
    "        generator = train_datagen.flow(x, y, batch_size=batch_size)\n",
    "        while 1:\n",
    "            x_batch, y_batch = generator.next()\n",
    "            yield [x_batch, y_batch]\n",
    "\n",
    "# Training with data augmentation. If shift_fraction=0., also no augmentation.\n",
    "model.fit_generator(generator=train_generator(train_tensors, train_labels, batch_size),\n",
    "                    steps_per_epoch=int(train_labels.shape[0] / batch_size),\n",
    "                    validation_data=(valid_tensors, valid_labels),\n",
    "                    epochs=epochs, callbacks=[checkpointer, log, earlystop], verbose=1)\n",
    "\n",
    "# Show total training time\n",
    "print(\"training time: %.2f minutes\"%((time.time()-start)/60))"
   ]
  },
  {
   "cell_type": "code",
   "execution_count": 21,
   "metadata": {},
   "outputs": [
    {
     "name": "stdout",
     "output_type": "stream",
     "text": [
      "[[0.05570696 0.09159406 0.05390646 ... 0.04794188 0.08568719 0.09007218]\n",
      " [0.05728008 0.09098065 0.0551459  ... 0.04546761 0.09137298 0.09057508]\n",
      " [0.06452724 0.09281871 0.05311167 ... 0.05057526 0.09028183 0.0766884 ]\n",
      " ...\n",
      " [0.0627821  0.09324825 0.05229995 ... 0.04123024 0.08517592 0.09381063]\n",
      " [0.05540825 0.08489912 0.05167867 ... 0.04585934 0.09018708 0.0844086 ]\n",
      " [0.06531483 0.08955759 0.05486565 ... 0.03931829 0.08831201 0.09971489]]\n"
     ]
    }
   ],
   "source": [
    "prediction = model.predict(test_tensors)\n",
    "print(prediction)"
   ]
  },
  {
   "cell_type": "code",
   "execution_count": 22,
   "metadata": {},
   "outputs": [
    {
     "data": {
      "text/html": [
       "<div>\n",
       "<style scoped>\n",
       "    .dataframe tbody tr th:only-of-type {\n",
       "        vertical-align: middle;\n",
       "    }\n",
       "\n",
       "    .dataframe tbody tr th {\n",
       "        vertical-align: top;\n",
       "    }\n",
       "\n",
       "    .dataframe thead th {\n",
       "        text-align: right;\n",
       "    }\n",
       "</style>\n",
       "<table border=\"1\" class=\"dataframe\">\n",
       "  <thead>\n",
       "    <tr style=\"text-align: right;\">\n",
       "      <th></th>\n",
       "      <th>file</th>\n",
       "      <th>species</th>\n",
       "    </tr>\n",
       "  </thead>\n",
       "  <tbody>\n",
       "    <tr>\n",
       "      <th>0</th>\n",
       "      <td>1b490196c.png</td>\n",
       "      <td>Common Chickweed</td>\n",
       "    </tr>\n",
       "    <tr>\n",
       "      <th>1</th>\n",
       "      <td>85431c075.png</td>\n",
       "      <td>Loose Silky-bent</td>\n",
       "    </tr>\n",
       "    <tr>\n",
       "      <th>2</th>\n",
       "      <td>506347cfe.png</td>\n",
       "      <td>Loose Silky-bent</td>\n",
       "    </tr>\n",
       "    <tr>\n",
       "      <th>3</th>\n",
       "      <td>7f46a71db.png</td>\n",
       "      <td>Loose Silky-bent</td>\n",
       "    </tr>\n",
       "    <tr>\n",
       "      <th>4</th>\n",
       "      <td>668c1007c.png</td>\n",
       "      <td>Loose Silky-bent</td>\n",
       "    </tr>\n",
       "  </tbody>\n",
       "</table>\n",
       "</div>"
      ],
      "text/plain": [
       "            file           species\n",
       "0  1b490196c.png  Common Chickweed\n",
       "1  85431c075.png  Loose Silky-bent\n",
       "2  506347cfe.png  Loose Silky-bent\n",
       "3  7f46a71db.png  Loose Silky-bent\n",
       "4  668c1007c.png  Loose Silky-bent"
      ]
     },
     "execution_count": 22,
     "metadata": {},
     "output_type": "execute_result"
    }
   ],
   "source": [
    "pred = np.argmax(prediction,axis=1)\n",
    "predStr = []\n",
    "for i in range(len(pred)):\n",
    "    predStr.append(CATEGORIES[pred[i]])\n",
    "preddf = pd.DataFrame({'species':predStr})\n",
    "\n",
    "result=pd.concat([test[['file']], preddf], axis=1)\n",
    "result.head(5)"
   ]
  },
  {
   "cell_type": "code",
   "execution_count": 23,
   "metadata": {},
   "outputs": [
    {
     "data": {
      "text/html": [
       "<div>\n",
       "<style scoped>\n",
       "    .dataframe tbody tr th:only-of-type {\n",
       "        vertical-align: middle;\n",
       "    }\n",
       "\n",
       "    .dataframe tbody tr th {\n",
       "        vertical-align: top;\n",
       "    }\n",
       "\n",
       "    .dataframe thead th {\n",
       "        text-align: right;\n",
       "    }\n",
       "</style>\n",
       "<table border=\"1\" class=\"dataframe\">\n",
       "  <thead>\n",
       "    <tr style=\"text-align: right;\">\n",
       "      <th></th>\n",
       "      <th>file</th>\n",
       "      <th>species</th>\n",
       "    </tr>\n",
       "  </thead>\n",
       "  <tbody>\n",
       "    <tr>\n",
       "      <th>0</th>\n",
       "      <td>1b490196c.png</td>\n",
       "      <td>Common Chickweed</td>\n",
       "    </tr>\n",
       "    <tr>\n",
       "      <th>1</th>\n",
       "      <td>85431c075.png</td>\n",
       "      <td>Loose Silky-bent</td>\n",
       "    </tr>\n",
       "    <tr>\n",
       "      <th>2</th>\n",
       "      <td>506347cfe.png</td>\n",
       "      <td>Loose Silky-bent</td>\n",
       "    </tr>\n",
       "    <tr>\n",
       "      <th>3</th>\n",
       "      <td>7f46a71db.png</td>\n",
       "      <td>Loose Silky-bent</td>\n",
       "    </tr>\n",
       "    <tr>\n",
       "      <th>4</th>\n",
       "      <td>668c1007c.png</td>\n",
       "      <td>Loose Silky-bent</td>\n",
       "    </tr>\n",
       "    <tr>\n",
       "      <th>5</th>\n",
       "      <td>71f5323c5.png</td>\n",
       "      <td>Common Chickweed</td>\n",
       "    </tr>\n",
       "    <tr>\n",
       "      <th>6</th>\n",
       "      <td>1f3f44563.png</td>\n",
       "      <td>Loose Silky-bent</td>\n",
       "    </tr>\n",
       "    <tr>\n",
       "      <th>7</th>\n",
       "      <td>beebe5f4e.png</td>\n",
       "      <td>Common Chickweed</td>\n",
       "    </tr>\n",
       "    <tr>\n",
       "      <th>8</th>\n",
       "      <td>780defa2e.png</td>\n",
       "      <td>Common Chickweed</td>\n",
       "    </tr>\n",
       "    <tr>\n",
       "      <th>9</th>\n",
       "      <td>df521c0c0.png</td>\n",
       "      <td>Loose Silky-bent</td>\n",
       "    </tr>\n",
       "  </tbody>\n",
       "</table>\n",
       "</div>"
      ],
      "text/plain": [
       "            file           species\n",
       "0  1b490196c.png  Common Chickweed\n",
       "1  85431c075.png  Loose Silky-bent\n",
       "2  506347cfe.png  Loose Silky-bent\n",
       "3  7f46a71db.png  Loose Silky-bent\n",
       "4  668c1007c.png  Loose Silky-bent\n",
       "5  71f5323c5.png  Common Chickweed\n",
       "6  1f3f44563.png  Loose Silky-bent\n",
       "7  beebe5f4e.png  Common Chickweed\n",
       "8  780defa2e.png  Common Chickweed\n",
       "9  df521c0c0.png  Loose Silky-bent"
      ]
     },
     "execution_count": 23,
     "metadata": {},
     "output_type": "execute_result"
    }
   ],
   "source": [
    "# The model almost always predict the largest two species \n",
    "result.head(10)"
   ]
  },
  {
   "cell_type": "code",
   "execution_count": null,
   "metadata": {},
   "outputs": [],
   "source": []
  }
 ],
 "metadata": {
  "kernelspec": {
   "display_name": "Python 2",
   "language": "python",
   "name": "python2"
  },
  "language_info": {
   "codemirror_mode": {
    "name": "ipython",
    "version": 2
   },
   "file_extension": ".py",
   "mimetype": "text/x-python",
   "name": "python",
   "nbconvert_exporter": "python",
   "pygments_lexer": "ipython2",
   "version": "2.7.15"
  }
 },
 "nbformat": 4,
 "nbformat_minor": 2
}
